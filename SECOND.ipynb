{
 "cells": [
  {
   "cell_type": "code",
   "execution_count": 1,
   "metadata": {},
   "outputs": [],
   "source": [
    "import pandas as pd \n",
    "import numpy as np \n",
    "import matplotlib.pyplot as plt\n",
    "%matplotlib inline\n",
    "import seaborn as sns\n",
    "from xgboost import XGBClassifier\n",
    "from sklearn.model_selection import train_test_split\n",
    "from sklearn.metrics import accuracy_score\n",
    "from sklearn.linear_model import LogisticRegression\n",
    "from sklearn.svm import LinearSVC,SVC\n",
    "from sklearn.ensemble import RandomForestClassifier\n",
    "from sklearn.ensemble import RandomForestRegressor\n",
    "from sklearn.ensemble import GradientBoostingClassifier\n",
    "from sklearn.ensemble import ExtraTreesClassifier\n",
    "from sklearn.ensemble import AdaBoostClassifier\n",
    "from sklearn.neighbors import KNeighborsClassifier\n",
    "from sklearn.naive_bayes import GaussianNB\n",
    "import lightgbm as lgb\n",
    "from sklearn.preprocessing import LabelEncoder\n"
   ]
  },
  {
   "cell_type": "code",
   "execution_count": 2,
   "metadata": {},
   "outputs": [],
   "source": [
    "train=pd.read_csv('train.csv')\n",
    "test=pd.read_csv('test.csv')\n",
    "buil_owner=pd.read_csv('Building_Ownership_Use.csv')\n",
    "structure=pd.read_csv('Building_Structure.csv')"
   ]
  },
  {
   "cell_type": "code",
   "execution_count": 3,
   "metadata": {},
   "outputs": [
    {
     "data": {
      "text/plain": [
       "['building_id',\n",
       " 'district_id',\n",
       " 'vdcmun_id',\n",
       " 'ward_id',\n",
       " 'count_floors_pre_eq',\n",
       " 'count_floors_post_eq',\n",
       " 'age_building',\n",
       " 'plinth_area_sq_ft',\n",
       " 'height_ft_pre_eq',\n",
       " 'height_ft_post_eq',\n",
       " 'land_surface_condition',\n",
       " 'foundation_type',\n",
       " 'roof_type',\n",
       " 'ground_floor_type',\n",
       " 'other_floor_type',\n",
       " 'position',\n",
       " 'plan_configuration',\n",
       " 'has_superstructure_adobe_mud',\n",
       " 'has_superstructure_mud_mortar_stone',\n",
       " 'has_superstructure_stone_flag',\n",
       " 'has_superstructure_cement_mortar_stone',\n",
       " 'has_superstructure_mud_mortar_brick',\n",
       " 'has_superstructure_cement_mortar_brick',\n",
       " 'has_superstructure_timber',\n",
       " 'has_superstructure_bamboo',\n",
       " 'has_superstructure_rc_non_engineered',\n",
       " 'has_superstructure_rc_engineered',\n",
       " 'has_superstructure_other',\n",
       " 'condition_post_eq']"
      ]
     },
     "execution_count": 3,
     "metadata": {},
     "output_type": "execute_result"
    }
   ],
   "source": [
    "structure.columns.tolist()"
   ]
  },
  {
   "cell_type": "code",
   "execution_count": 4,
   "metadata": {},
   "outputs": [],
   "source": [
    "#drop district_id , vdcmun_id,ward_id \n",
    "#add a new column (difference_in_floor_count)  and remove pre and post eq floor count\n",
    "#add a new column (difference_in_height) and remove pre and post eq floor count\n"
   ]
  },
  {
   "cell_type": "code",
   "execution_count": 5,
   "metadata": {},
   "outputs": [
    {
     "data": {
      "text/plain": [
       "<matplotlib.axes._subplots.AxesSubplot at 0x7f96958bd7f0>"
      ]
     },
     "execution_count": 5,
     "metadata": {},
     "output_type": "execute_result"
    },
    {
     "data": {
      "image/png": "[encoded data removed]",
      "text/plain": [
       "<matplotlib.figure.Figure at 0x7f96aaadba20>"
      ]
     },
     "metadata": {},
     "output_type": "display_data"
    }
   ],
   "source": [
    "sns.boxplot(x=structure.age_building)"
   ]
  },
  {
   "cell_type": "code",
   "execution_count": 6,
   "metadata": {},
   "outputs": [],
   "source": [
    "structure.loc[structure.age_building>200,'age_building']=50"
   ]
  },
  {
   "cell_type": "code",
   "execution_count": 7,
   "metadata": {},
   "outputs": [
    {
     "data": {
      "text/plain": [
       "<matplotlib.axes._subplots.AxesSubplot at 0x7f969c947400>"
      ]
     },
     "execution_count": 7,
     "metadata": {},
     "output_type": "execute_result"
    },
    {
     "data": {
      "image/png": "[encoded data removed]",
      "text/plain": [
       "<matplotlib.figure.Figure at 0x7f96e2f522e8>"
      ]
     },
     "metadata": {},
     "output_type": "display_data"
    }
   ],
   "source": [
    "sns.boxplot(x=structure.age_building)"
   ]
  },
  {
   "cell_type": "code",
   "execution_count": 8,
   "metadata": {},
   "outputs": [
    {
     "data": {
      "text/plain": [
       "<matplotlib.axes._subplots.AxesSubplot at 0x7f969c887c50>"
      ]
     },
     "execution_count": 8,
     "metadata": {},
     "output_type": "execute_result"
    },
    {
     "data": {
      "image/png": "[encoded data removed]",
      "text/plain": [
       "<matplotlib.figure.Figure at 0x7f969c90ffd0>"
      ]
     },
     "metadata": {},
     "output_type": "display_data"
    }
   ],
   "source": [
    "sns.boxplot(x=structure.plinth_area_sq_ft)"
   ]
  },
  {
   "cell_type": "code",
   "execution_count": 9,
   "metadata": {},
   "outputs": [
    {
     "data": {
      "text/plain": [
       "count     1052948\n",
       "unique          3\n",
       "top          Flat\n",
       "freq       874202\n",
       "Name: land_surface_condition, dtype: object"
      ]
     },
     "execution_count": 9,
     "metadata": {},
     "output_type": "execute_result"
    }
   ],
   "source": [
    "structure.land_surface_condition.describe()"
   ]
  },
  {
   "cell_type": "code",
   "execution_count": 10,
   "metadata": {},
   "outputs": [],
   "source": [
    "structure.land_surface_condition=LabelEncoder().fit_transform(structure['land_surface_condition'])"
   ]
  },
  {
   "cell_type": "code",
   "execution_count": 11,
   "metadata": {},
   "outputs": [
    {
     "data": {
      "text/plain": [
       "0    874202\n",
       "1    144748\n",
       "2     33998\n",
       "Name: land_surface_condition, dtype: int64"
      ]
     },
     "execution_count": 11,
     "metadata": {},
     "output_type": "execute_result"
    }
   ],
   "source": [
    "structure.land_surface_condition.value_counts()"
   ]
  },
  {
   "cell_type": "code",
   "execution_count": 12,
   "metadata": {},
   "outputs": [
    {
     "data": {
      "text/plain": [
       "Mud mortar-Stone/Brick    886331\n",
       "Bamboo/Timber              60598\n",
       "Cement-Stone/Brick         57354\n",
       "RC                         42808\n",
       "Other                       5857\n",
       "Name: foundation_type, dtype: int64"
      ]
     },
     "execution_count": 12,
     "metadata": {},
     "output_type": "execute_result"
    }
   ],
   "source": [
    "structure.foundation_type.value_counts()"
   ]
  },
  {
   "cell_type": "code",
   "execution_count": 13,
   "metadata": {},
   "outputs": [],
   "source": [
    "structure.foundation_type=LabelEncoder().fit_transform(structure['foundation_type'])"
   ]
  },
  {
   "cell_type": "code",
   "execution_count": 14,
   "metadata": {},
   "outputs": [],
   "source": [
    "structure.loc[structure.foundation_type == 3, 'foundation_type'] = np.nan"
   ]
  },
  {
   "cell_type": "code",
   "execution_count": 15,
   "metadata": {},
   "outputs": [
    {
     "data": {
      "text/plain": [
       "2.0    886331\n",
       "0.0     60598\n",
       "1.0     57354\n",
       "4.0     42808\n",
       "Name: foundation_type, dtype: int64"
      ]
     },
     "execution_count": 15,
     "metadata": {},
     "output_type": "execute_result"
    }
   ],
   "source": [
    "structure.foundation_type.value_counts()"
   ]
  },
  {
   "cell_type": "code",
   "execution_count": 16,
   "metadata": {},
   "outputs": [],
   "source": [
    "structure['foundation_type']=structure['foundation_type'].ffill()"
   ]
  },
  {
   "cell_type": "code",
   "execution_count": 17,
   "metadata": {},
   "outputs": [],
   "source": [
    "structure.foundation_type=structure.foundation_type.astype(int)"
   ]
  },
  {
   "cell_type": "code",
   "execution_count": 18,
   "metadata": {},
   "outputs": [],
   "source": [
    "structure.roof_type=LabelEncoder().fit_transform(structure['roof_type'])"
   ]
  },
  {
   "cell_type": "code",
   "execution_count": 19,
   "metadata": {},
   "outputs": [],
   "source": [
    "structure.ground_floor_type=LabelEncoder().fit_transform(structure['ground_floor_type'])"
   ]
  },
  {
   "cell_type": "code",
   "execution_count": 20,
   "metadata": {},
   "outputs": [],
   "source": [
    "structure.loc[structure.ground_floor_type ==2, 'ground_floor_type'] = np.nan\n",
    "structure.loc[structure.ground_floor_type ==4, 'ground_floor_type'] = np.nan"
   ]
  },
  {
   "cell_type": "code",
   "execution_count": 21,
   "metadata": {},
   "outputs": [],
   "source": [
    "structure['ground_floor_type']=structure['ground_floor_type'].ffill()"
   ]
  },
  {
   "cell_type": "code",
   "execution_count": 22,
   "metadata": {},
   "outputs": [
    {
     "data": {
      "text/plain": [
       "1.0    851819\n",
       "0.0    101210\n",
       "3.0     99919\n",
       "Name: ground_floor_type, dtype: int64"
      ]
     },
     "execution_count": 22,
     "metadata": {},
     "output_type": "execute_result"
    }
   ],
   "source": [
    "structure.ground_floor_type.value_counts()"
   ]
  },
  {
   "cell_type": "code",
   "execution_count": 23,
   "metadata": {},
   "outputs": [
    {
     "data": {
      "text/plain": [
       "TImber/Bamboo-Mud    666182\n",
       "Timber-Planck        177571\n",
       "Not applicable       160301\n",
       "RCC/RB/RBC            48894\n",
       "Name: other_floor_type, dtype: int64"
      ]
     },
     "execution_count": 23,
     "metadata": {},
     "output_type": "execute_result"
    }
   ],
   "source": [
    "structure.other_floor_type.value_counts()"
   ]
  },
  {
   "cell_type": "code",
   "execution_count": 24,
   "metadata": {},
   "outputs": [],
   "source": [
    "structure['position']=structure['position'].fillna('Not attached')"
   ]
  },
  {
   "cell_type": "code",
   "execution_count": 25,
   "metadata": {},
   "outputs": [],
   "source": [
    "structure.position=LabelEncoder().fit_transform(structure['position'])"
   ]
  },
  {
   "cell_type": "code",
   "execution_count": 26,
   "metadata": {},
   "outputs": [
    {
     "data": {
      "text/plain": [
       "3    816365\n",
       "0    173459\n",
       "1     53522\n",
       "2      9602\n",
       "Name: position, dtype: int64"
      ]
     },
     "execution_count": 26,
     "metadata": {},
     "output_type": "execute_result"
    }
   ],
   "source": [
    "structure.position.value_counts()"
   ]
  },
  {
   "cell_type": "code",
   "execution_count": 27,
   "metadata": {},
   "outputs": [
    {
     "data": {
      "text/plain": [
       "count         1052947\n",
       "unique             10\n",
       "top       Rectangular\n",
       "freq          1009987\n",
       "Name: plan_configuration, dtype: object"
      ]
     },
     "execution_count": 27,
     "metadata": {},
     "output_type": "execute_result"
    }
   ],
   "source": [
    "structure.plan_configuration.describe()"
   ]
  },
  {
   "cell_type": "code",
   "execution_count": 28,
   "metadata": {},
   "outputs": [],
   "source": [
    "structure.plan_configuration=structure.plan_configuration.fillna('Rectangular')"
   ]
  },
  {
   "cell_type": "code",
   "execution_count": 29,
   "metadata": {},
   "outputs": [],
   "source": [
    "structure.plan_configuration=LabelEncoder().fit_transform(structure['plan_configuration'])"
   ]
  },
  {
   "cell_type": "code",
   "execution_count": 30,
   "metadata": {},
   "outputs": [],
   "source": [
    "structure.loc[structure.plan_configuration==2,'plan_configuration']=np.nan\n",
    "structure.loc[structure.plan_configuration==1,'plan_configuration']=np.nan\n",
    "structure.loc[structure.plan_configuration==0,'plan_configuration']=np.nan\n",
    "structure.loc[structure.plan_configuration==9,'plan_configuration']=np.nan\n",
    "structure.loc[structure.plan_configuration==5,'plan_configuration']=np.nan\n",
    "structure.loc[structure.plan_configuration==8,'plan_configuration']=np.nan\n",
    "\n"
   ]
  },
  {
   "cell_type": "code",
   "execution_count": 31,
   "metadata": {},
   "outputs": [
    {
     "data": {
      "text/plain": [
       "array([ 6.,  3.,  7., nan,  4.])"
      ]
     },
     "execution_count": 31,
     "metadata": {},
     "output_type": "execute_result"
    }
   ],
   "source": [
    "structure.plan_configuration.unique()"
   ]
  },
  {
   "cell_type": "code",
   "execution_count": 32,
   "metadata": {},
   "outputs": [],
   "source": [
    "structure['plan_configuration']=structure['plan_configuration'].ffill()"
   ]
  },
  {
   "cell_type": "code",
   "execution_count": 33,
   "metadata": {},
   "outputs": [
    {
     "data": {
      "text/plain": [
       "6.0    1012996\n",
       "7.0      23207\n",
       "3.0      15313\n",
       "4.0       1432\n",
       "Name: plan_configuration, dtype: int64"
      ]
     },
     "execution_count": 33,
     "metadata": {},
     "output_type": "execute_result"
    }
   ],
   "source": [
    "structure.plan_configuration.value_counts()"
   ]
  },
  {
   "cell_type": "code",
   "execution_count": 34,
   "metadata": {},
   "outputs": [],
   "source": [
    "structure.plan_configuration=LabelEncoder().fit_transform(structure['plan_configuration'])"
   ]
  },
  {
   "cell_type": "code",
   "execution_count": 35,
   "metadata": {},
   "outputs": [
    {
     "data": {
      "text/plain": [
       "2    1012996\n",
       "3      23207\n",
       "0      15313\n",
       "1       1432\n",
       "Name: plan_configuration, dtype: int64"
      ]
     },
     "execution_count": 35,
     "metadata": {},
     "output_type": "execute_result"
    }
   ],
   "source": [
    "structure.plan_configuration.value_counts()"
   ]
  },
  {
   "cell_type": "code",
   "execution_count": 36,
   "metadata": {},
   "outputs": [
    {
     "data": {
      "text/plain": [
       "Damaged-Not used                           249464\n",
       "Damaged-Repaired and used                  211119\n",
       "Damaged-Used in risk                       187480\n",
       "Damaged-Rubble unclear                     145732\n",
       "Damaged-Rubble clear                       132508\n",
       "Not damaged                                 71587\n",
       "Damaged-Rubble Clear-New building built     54587\n",
       "Covered by landslide                          471\n",
       "Name: condition_post_eq, dtype: int64"
      ]
     },
     "execution_count": 36,
     "metadata": {},
     "output_type": "execute_result"
    }
   ],
   "source": [
    "structure.condition_post_eq.value_counts()"
   ]
  },
  {
   "cell_type": "code",
   "execution_count": 37,
   "metadata": {},
   "outputs": [],
   "source": [
    "structure['condition_post_eq']=LabelEncoder().fit_transform(structure['condition_post_eq'])\n"
   ]
  },
  {
   "cell_type": "code",
   "execution_count": 38,
   "metadata": {},
   "outputs": [],
   "source": [
    "structure.loc[structure.condition_post_eq==0,'condition_post_eq']=np.nan"
   ]
  },
  {
   "cell_type": "code",
   "execution_count": 39,
   "metadata": {},
   "outputs": [],
   "source": [
    "structure['condition_post_eq']=structure['condition_post_eq'].ffill()"
   ]
  },
  {
   "cell_type": "code",
   "execution_count": 40,
   "metadata": {},
   "outputs": [
    {
     "data": {
      "text/plain": [
       "1.0    249512\n",
       "2.0    211174\n",
       "6.0    187514\n",
       "5.0    145912\n",
       "4.0    132624\n",
       "7.0     71597\n",
       "3.0     54615\n",
       "Name: condition_post_eq, dtype: int64"
      ]
     },
     "execution_count": 40,
     "metadata": {},
     "output_type": "execute_result"
    }
   ],
   "source": [
    "structure.condition_post_eq.value_counts()"
   ]
  },
  {
   "cell_type": "code",
   "execution_count": 41,
   "metadata": {},
   "outputs": [
    {
     "data": {
      "text/plain": [
       "<matplotlib.axes._subplots.AxesSubplot at 0x7f969614f828>"
      ]
     },
     "execution_count": 41,
     "metadata": {},
     "output_type": "execute_result"
    },
    {
     "data": {
      "image/png": "[encoded data removed]",
      "text/plain": [
       "<matplotlib.figure.Figure at 0x7f969614f898>"
      ]
     },
     "metadata": {},
     "output_type": "display_data"
    }
   ],
   "source": [
    "sns.boxplot(x=structure.height_ft_pre_eq)"
   ]
  },
  {
   "cell_type": "code",
   "execution_count": 42,
   "metadata": {},
   "outputs": [],
   "source": [
    "structure.loc[structure.height_ft_pre_eq>100,'height_ft_pre_eq']=16"
   ]
  },
  {
   "cell_type": "code",
   "execution_count": 43,
   "metadata": {},
   "outputs": [
    {
     "data": {
      "text/plain": [
       "<matplotlib.axes._subplots.AxesSubplot at 0x7f969c7bdc88>"
      ]
     },
     "execution_count": 43,
     "metadata": {},
     "output_type": "execute_result"
    },
    {
     "data": {
      "image/png": "[encoded data removed]",
      "text/plain": [
       "<matplotlib.figure.Figure at 0x7f969c782e10>"
      ]
     },
     "metadata": {},
     "output_type": "display_data"
    }
   ],
   "source": [
    "sns.boxplot(x=structure.height_ft_pre_eq)"
   ]
  },
  {
   "cell_type": "code",
   "execution_count": 44,
   "metadata": {},
   "outputs": [
    {
     "data": {
      "text/plain": [
       "<matplotlib.axes._subplots.AxesSubplot at 0x7f969c6dcef0>"
      ]
     },
     "execution_count": 44,
     "metadata": {},
     "output_type": "execute_result"
    },
    {
     "data": {
      "image/png": "[encoded data removed]",
      "text/plain": [
       "<matplotlib.figure.Figure at 0x7f969c90fba8>"
      ]
     },
     "metadata": {},
     "output_type": "display_data"
    }
   ],
   "source": [
    "sns.boxplot(x=structure.height_ft_post_eq)"
   ]
  },
  {
   "cell_type": "code",
   "execution_count": 45,
   "metadata": {},
   "outputs": [],
   "source": [
    "structure.loc[structure.height_ft_post_eq>100,'height_ft_post_eq']=12"
   ]
  },
  {
   "cell_type": "code",
   "execution_count": 46,
   "metadata": {},
   "outputs": [
    {
     "data": {
      "text/plain": [
       "<matplotlib.axes._subplots.AxesSubplot at 0x7f969c6e1ba8>"
      ]
     },
     "execution_count": 46,
     "metadata": {},
     "output_type": "execute_result"
    },
    {
     "data": {
      "image/png": "[encoded data removed]",
      "text/plain": [
       "<matplotlib.figure.Figure at 0x7f969c90fb38>"
      ]
     },
     "metadata": {},
     "output_type": "display_data"
    }
   ],
   "source": [
    "sns.boxplot(x=structure.height_ft_post_eq)"
   ]
  },
  {
   "cell_type": "code",
   "execution_count": 47,
   "metadata": {},
   "outputs": [],
   "source": [
    "structure['diff_in_height']=structure['height_ft_pre_eq']-structure['height_ft_post_eq']"
   ]
  },
  {
   "cell_type": "code",
   "execution_count": 48,
   "metadata": {},
   "outputs": [
    {
     "data": {
      "text/plain": [
       "<matplotlib.axes._subplots.AxesSubplot at 0x7f969c610198>"
      ]
     },
     "execution_count": 48,
     "metadata": {},
     "output_type": "execute_result"
    },
    {
     "data": {
      "image/png": "[encoded data removed]",
      "text/plain": [
       "<matplotlib.figure.Figure at 0x7f969c665ba8>"
      ]
     },
     "metadata": {},
     "output_type": "display_data"
    }
   ],
   "source": [
    "sns.boxplot(x=structure.diff_in_height)"
   ]
  },
  {
   "cell_type": "code",
   "execution_count": 49,
   "metadata": {},
   "outputs": [],
   "source": [
    "count=structure.diff_in_height<0"
   ]
  },
  {
   "cell_type": "code",
   "execution_count": 50,
   "metadata": {},
   "outputs": [
    {
     "data": {
      "text/plain": [
       "False    1049846\n",
       "True        3102\n",
       "Name: diff_in_height, dtype: int64"
      ]
     },
     "execution_count": 50,
     "metadata": {},
     "output_type": "execute_result"
    }
   ],
   "source": [
    "count.value_counts()"
   ]
  },
  {
   "cell_type": "code",
   "execution_count": 51,
   "metadata": {},
   "outputs": [
    {
     "data": {
      "text/plain": [
       "count    1.052948e+06\n",
       "mean     5.926491e+00\n",
       "std      8.311473e+00\n",
       "min     -8.400000e+01\n",
       "25%      0.000000e+00\n",
       "50%      0.000000e+00\n",
       "75%      1.300000e+01\n",
       "max      9.900000e+01\n",
       "Name: diff_in_height, dtype: float64"
      ]
     },
     "execution_count": 51,
     "metadata": {},
     "output_type": "execute_result"
    }
   ],
   "source": [
    "structure.diff_in_height.describe()"
   ]
  },
  {
   "cell_type": "code",
   "execution_count": 52,
   "metadata": {},
   "outputs": [],
   "source": [
    "structure.loc[structure.diff_in_height<0,'diff_in_height']=6"
   ]
  },
  {
   "cell_type": "code",
   "execution_count": 53,
   "metadata": {},
   "outputs": [
    {
     "data": {
      "text/plain": [
       "count    1.052948e+06\n",
       "mean     5.960575e+00\n",
       "std      8.278139e+00\n",
       "min      0.000000e+00\n",
       "25%      0.000000e+00\n",
       "50%      0.000000e+00\n",
       "75%      1.300000e+01\n",
       "max      9.900000e+01\n",
       "Name: diff_in_height, dtype: float64"
      ]
     },
     "execution_count": 53,
     "metadata": {},
     "output_type": "execute_result"
    }
   ],
   "source": [
    "structure.diff_in_height.describe()"
   ]
  },
  {
   "cell_type": "code",
   "execution_count": null,
   "metadata": {},
   "outputs": [],
   "source": []
  },
  {
   "cell_type": "code",
   "execution_count": 54,
   "metadata": {},
   "outputs": [
    {
     "data": {
      "text/plain": [
       "2    632969\n",
       "3    225046\n",
       "1    162594\n",
       "4     22263\n",
       "5      9102\n",
       "6       814\n",
       "7       128\n",
       "8        18\n",
       "9        14\n",
       "Name: count_floors_pre_eq, dtype: int64"
      ]
     },
     "execution_count": 54,
     "metadata": {},
     "output_type": "execute_result"
    }
   ],
   "source": [
    "structure.count_floors_pre_eq.value_counts()"
   ]
  },
  {
   "cell_type": "code",
   "execution_count": 55,
   "metadata": {},
   "outputs": [],
   "source": [
    "structure.loc[structure.count_floors_pre_eq == 6, 'count_floors_pre_eq'] = np.nan\n",
    "structure.loc[structure.count_floors_pre_eq == 7, 'count_floors_pre_eq'] = np.nan\n",
    "structure.loc[structure.count_floors_pre_eq == 8, 'count_floors_pre_eq'] = np.nan\n",
    "structure.loc[structure.count_floors_pre_eq == 9, 'count_floors_pre_eq'] = np.nan\n"
   ]
  },
  {
   "cell_type": "code",
   "execution_count": 56,
   "metadata": {},
   "outputs": [],
   "source": [
    "structure['count_floors_pre_eq']=structure['count_floors_pre_eq'].ffill()"
   ]
  },
  {
   "cell_type": "code",
   "execution_count": 57,
   "metadata": {},
   "outputs": [
    {
     "data": {
      "text/plain": [
       "2.0    633076\n",
       "3.0    225231\n",
       "1.0    162639\n",
       "4.0     22561\n",
       "5.0      9441\n",
       "Name: count_floors_pre_eq, dtype: int64"
      ]
     },
     "execution_count": 57,
     "metadata": {},
     "output_type": "execute_result"
    }
   ],
   "source": [
    "structure.count_floors_pre_eq.value_counts()"
   ]
  },
  {
   "cell_type": "code",
   "execution_count": 58,
   "metadata": {},
   "outputs": [
    {
     "data": {
      "text/plain": [
       "<matplotlib.axes._subplots.AxesSubplot at 0x7f969c330438>"
      ]
     },
     "execution_count": 58,
     "metadata": {},
     "output_type": "execute_result"
    },
    {
     "data": {
      "image/png": "[encoded data removed]",
      "text/plain": [
       "<matplotlib.figure.Figure at 0x7f969c5e47b8>"
      ]
     },
     "metadata": {},
     "output_type": "display_data"
    }
   ],
   "source": [
    "sns.countplot(x=structure.count_floors_post_eq)"
   ]
  },
  {
   "cell_type": "code",
   "execution_count": 59,
   "metadata": {},
   "outputs": [
    {
     "data": {
      "text/plain": [
       "2    419782\n",
       "0    333299\n",
       "1    180204\n",
       "3     99420\n",
       "4     13883\n",
       "5      5548\n",
       "6       649\n",
       "7       115\n",
       "8        28\n",
       "9        20\n",
       "Name: count_floors_post_eq, dtype: int64"
      ]
     },
     "execution_count": 59,
     "metadata": {},
     "output_type": "execute_result"
    }
   ],
   "source": [
    "structure.count_floors_post_eq.value_counts()"
   ]
  },
  {
   "cell_type": "code",
   "execution_count": 60,
   "metadata": {},
   "outputs": [],
   "source": [
    "structure.loc[structure.count_floors_post_eq == 6, 'count_floors_post_eq'] = np.nan\n",
    "structure.loc[structure.count_floors_post_eq == 7, 'count_floors_post_eq'] = np.nan\n",
    "structure.loc[structure.count_floors_post_eq == 8, 'count_floors_post_eq'] = np.nan\n",
    "structure.loc[structure.count_floors_post_eq == 9, 'count_floors_post_eq'] = np.nan\n"
   ]
  },
  {
   "cell_type": "code",
   "execution_count": 61,
   "metadata": {},
   "outputs": [
    {
     "data": {
      "text/plain": [
       "2.0    419782\n",
       "0.0    333299\n",
       "1.0    180204\n",
       "3.0     99420\n",
       "4.0     13883\n",
       "5.0      5548\n",
       "Name: count_floors_post_eq, dtype: int64"
      ]
     },
     "execution_count": 61,
     "metadata": {},
     "output_type": "execute_result"
    }
   ],
   "source": [
    "structure.count_floors_post_eq.value_counts()"
   ]
  },
  {
   "cell_type": "code",
   "execution_count": 62,
   "metadata": {},
   "outputs": [],
   "source": [
    "structure['count_floors_post_eq']=structure['count_floors_post_eq'].ffill()"
   ]
  },
  {
   "cell_type": "code",
   "execution_count": 63,
   "metadata": {},
   "outputs": [
    {
     "data": {
      "text/plain": [
       "2.0    419878\n",
       "0.0    333412\n",
       "1.0    180259\n",
       "3.0     99548\n",
       "4.0     14084\n",
       "5.0      5767\n",
       "Name: count_floors_post_eq, dtype: int64"
      ]
     },
     "execution_count": 63,
     "metadata": {},
     "output_type": "execute_result"
    }
   ],
   "source": [
    "structure.count_floors_post_eq.value_counts()"
   ]
  },
  {
   "cell_type": "code",
   "execution_count": 64,
   "metadata": {},
   "outputs": [],
   "source": [
    "structure['dii_in_floors']=structure['count_floors_pre_eq']-structure['count_floors_post_eq']"
   ]
  },
  {
   "cell_type": "code",
   "execution_count": 65,
   "metadata": {},
   "outputs": [
    {
     "data": {
      "text/plain": [
       " 0.0    633272\n",
       " 2.0    211369\n",
       " 1.0    103133\n",
       " 3.0     95321\n",
       " 4.0      5050\n",
       "-1.0      2632\n",
       " 5.0      1889\n",
       "-3.0       178\n",
       "-2.0       103\n",
       "-4.0         1\n",
       "Name: dii_in_floors, dtype: int64"
      ]
     },
     "execution_count": 65,
     "metadata": {},
     "output_type": "execute_result"
    }
   ],
   "source": [
    "structure.dii_in_floors.value_counts()"
   ]
  },
  {
   "cell_type": "code",
   "execution_count": 66,
   "metadata": {},
   "outputs": [
    {
     "data": {
      "text/plain": [
       "<matplotlib.axes._subplots.AxesSubplot at 0x7f969c2aa828>"
      ]
     },
     "execution_count": 66,
     "metadata": {},
     "output_type": "execute_result"
    },
    {
     "data": {
      "image/png": "[encoded data removed]",
      "text/plain": [
       "<matplotlib.figure.Figure at 0x7f969c8049e8>"
      ]
     },
     "metadata": {},
     "output_type": "display_data"
    }
   ],
   "source": [
    "sns.boxplot(x=structure.dii_in_floors)"
   ]
  },
  {
   "cell_type": "code",
   "execution_count": 67,
   "metadata": {},
   "outputs": [],
   "source": [
    "structure.loc[structure.dii_in_floors<0,'dii_in_floors']=1"
   ]
  },
  {
   "cell_type": "code",
   "execution_count": 68,
   "metadata": {},
   "outputs": [
    {
     "data": {
      "text/plain": [
       "<matplotlib.axes._subplots.AxesSubplot at 0x7f969c244e48>"
      ]
     },
     "execution_count": 68,
     "metadata": {},
     "output_type": "execute_result"
    },
    {
     "data": {
      "image/png": "[encoded data removed]",
      "text/plain": [
       "<matplotlib.figure.Figure at 0x7f969c2614e0>"
      ]
     },
     "metadata": {},
     "output_type": "display_data"
    }
   ],
   "source": [
    "sns.boxplot(x=structure.dii_in_floors)"
   ]
  },
  {
   "cell_type": "code",
   "execution_count": 69,
   "metadata": {},
   "outputs": [
    {
     "data": {
      "text/plain": [
       "0.0    633272\n",
       "2.0    211369\n",
       "1.0    106047\n",
       "3.0     95321\n",
       "4.0      5050\n",
       "5.0      1889\n",
       "Name: dii_in_floors, dtype: int64"
      ]
     },
     "execution_count": 69,
     "metadata": {},
     "output_type": "execute_result"
    }
   ],
   "source": [
    "structure.dii_in_floors.value_counts()"
   ]
  },
  {
   "cell_type": "code",
   "execution_count": 70,
   "metadata": {},
   "outputs": [],
   "source": [
    "structure=structure.drop('ward_id',axis=1)\n",
    "structure=structure.drop('district_id',axis=1)\n",
    "structure=structure.drop('vdcmun_id',axis=1)"
   ]
  },
  {
   "cell_type": "code",
   "execution_count": 71,
   "metadata": {},
   "outputs": [],
   "source": [
    "structure=structure.drop('count_floors_pre_eq',axis=1)\n",
    "structure=structure.drop('count_floors_post_eq',axis=1)\n",
    "structure=structure.drop('height_ft_pre_eq',axis=1)\n",
    "structure=structure.drop('height_ft_post_eq',axis=1)\n",
    "\n"
   ]
  },
  {
   "cell_type": "code",
   "execution_count": 72,
   "metadata": {},
   "outputs": [],
   "source": [
    "structure['roof_type']=structure['roof_type'].astype(int)\n",
    "structure['condition_post_eq']=structure['condition_post_eq'].astype(int)\n",
    "structure['dii_in_floors']=structure['dii_in_floors'].astype(int)\n"
   ]
  },
  {
   "cell_type": "code",
   "execution_count": 73,
   "metadata": {},
   "outputs": [],
   "source": [
    "structure['ground_floor_type']=structure['ground_floor_type'].astype(int)\n",
    "\n",
    "\n"
   ]
  },
  {
   "cell_type": "code",
   "execution_count": 74,
   "metadata": {},
   "outputs": [
    {
     "name": "stdout",
     "output_type": "stream",
     "text": [
      "<class 'pandas.core.frame.DataFrame'>\n",
      "RangeIndex: 1052948 entries, 0 to 1052947\n",
      "Data columns (total 24 columns):\n",
      "building_id                               1052948 non-null object\n",
      "age_building                              1052948 non-null int64\n",
      "plinth_area_sq_ft                         1052948 non-null int64\n",
      "land_surface_condition                    1052948 non-null int64\n",
      "foundation_type                           1052948 non-null int64\n",
      "roof_type                                 1052948 non-null int64\n",
      "ground_floor_type                         1052948 non-null int64\n",
      "other_floor_type                          1052948 non-null object\n",
      "position                                  1052948 non-null int64\n",
      "plan_configuration                        1052948 non-null int64\n",
      "has_superstructure_adobe_mud              1052948 non-null int64\n",
      "has_superstructure_mud_mortar_stone       1052948 non-null int64\n",
      "has_superstructure_stone_flag             1052948 non-null int64\n",
      "has_superstructure_cement_mortar_stone    1052948 non-null int64\n",
      "has_superstructure_mud_mortar_brick       1052948 non-null int64\n",
      "has_superstructure_cement_mortar_brick    1052948 non-null int64\n",
      "has_superstructure_timber                 1052948 non-null int64\n",
      "has_superstructure_bamboo                 1052948 non-null int64\n",
      "has_superstructure_rc_non_engineered      1052948 non-null int64\n",
      "has_superstructure_rc_engineered          1052948 non-null int64\n",
      "has_superstructure_other                  1052948 non-null int64\n",
      "condition_post_eq                         1052948 non-null int64\n",
      "diff_in_height                            1052948 non-null int64\n",
      "dii_in_floors                             1052948 non-null int64\n",
      "dtypes: int64(22), object(2)\n",
      "memory usage: 192.8+ MB\n"
     ]
    }
   ],
   "source": [
    "structure.info()"
   ]
  },
  {
   "cell_type": "code",
   "execution_count": 75,
   "metadata": {},
   "outputs": [],
   "source": [
    "structure['ground_floor_type']=structure['ground_floor_type'].astype(int)"
   ]
  },
  {
   "cell_type": "raw",
   "metadata": {},
   "source": []
  },
  {
   "cell_type": "code",
   "execution_count": 76,
   "metadata": {},
   "outputs": [],
   "source": [
    "structure=structure.drop('has_superstructure_rc_engineered',axis=1)"
   ]
  },
  {
   "cell_type": "code",
   "execution_count": 77,
   "metadata": {},
   "outputs": [],
   "source": [
    "structure['stone']=structure['has_superstructure_mud_mortar_stone']+structure['has_superstructure_cement_mortar_stone']"
   ]
  },
  {
   "cell_type": "raw",
   "metadata": {},
   "source": []
  },
  {
   "cell_type": "code",
   "execution_count": 78,
   "metadata": {},
   "outputs": [
    {
     "data": {
      "text/plain": [
       "1    805175\n",
       "0    239325\n",
       "2      8448\n",
       "Name: stone, dtype: int64"
      ]
     },
     "execution_count": 78,
     "metadata": {},
     "output_type": "execute_result"
    }
   ],
   "source": [
    "structure.stone.value_counts()"
   ]
  },
  {
   "cell_type": "code",
   "execution_count": 79,
   "metadata": {},
   "outputs": [],
   "source": [
    "structure['brick']=structure['has_superstructure_mud_mortar_brick']+structure['has_superstructure_cement_mortar_brick']"
   ]
  },
  {
   "cell_type": "code",
   "execution_count": 80,
   "metadata": {},
   "outputs": [
    {
     "data": {
      "text/plain": [
       "0    909474\n",
       "1    136072\n",
       "2      7402\n",
       "Name: brick, dtype: int64"
      ]
     },
     "execution_count": 80,
     "metadata": {},
     "output_type": "execute_result"
    }
   ],
   "source": [
    "structure.brick.value_counts()"
   ]
  },
  {
   "cell_type": "code",
   "execution_count": 81,
   "metadata": {},
   "outputs": [],
   "source": [
    "structure['wood']=structure['has_superstructure_bamboo']+structure['has_superstructure_timber']"
   ]
  },
  {
   "cell_type": "code",
   "execution_count": 82,
   "metadata": {},
   "outputs": [
    {
     "data": {
      "text/plain": [
       "0    775319\n",
       "1    199849\n",
       "2     77780\n",
       "Name: wood, dtype: int64"
      ]
     },
     "execution_count": 82,
     "metadata": {},
     "output_type": "execute_result"
    }
   ],
   "source": [
    "structure.wood.value_counts()"
   ]
  },
  {
   "cell_type": "code",
   "execution_count": 83,
   "metadata": {},
   "outputs": [
    {
     "name": "stdout",
     "output_type": "stream",
     "text": [
      "<class 'pandas.core.frame.DataFrame'>\n",
      "RangeIndex: 1052948 entries, 0 to 1052947\n",
      "Data columns (total 26 columns):\n",
      "building_id                               1052948 non-null object\n",
      "age_building                              1052948 non-null int64\n",
      "plinth_area_sq_ft                         1052948 non-null int64\n",
      "land_surface_condition                    1052948 non-null int64\n",
      "foundation_type                           1052948 non-null int64\n",
      "roof_type                                 1052948 non-null int64\n",
      "ground_floor_type                         1052948 non-null int64\n",
      "other_floor_type                          1052948 non-null object\n",
      "position                                  1052948 non-null int64\n",
      "plan_configuration                        1052948 non-null int64\n",
      "has_superstructure_adobe_mud              1052948 non-null int64\n",
      "has_superstructure_mud_mortar_stone       1052948 non-null int64\n",
      "has_superstructure_stone_flag             1052948 non-null int64\n",
      "has_superstructure_cement_mortar_stone    1052948 non-null int64\n",
      "has_superstructure_mud_mortar_brick       1052948 non-null int64\n",
      "has_superstructure_cement_mortar_brick    1052948 non-null int64\n",
      "has_superstructure_timber                 1052948 non-null int64\n",
      "has_superstructure_bamboo                 1052948 non-null int64\n",
      "has_superstructure_rc_non_engineered      1052948 non-null int64\n",
      "has_superstructure_other                  1052948 non-null int64\n",
      "condition_post_eq                         1052948 non-null int64\n",
      "diff_in_height                            1052948 non-null int64\n",
      "dii_in_floors                             1052948 non-null int64\n",
      "stone                                     1052948 non-null int64\n",
      "brick                                     1052948 non-null int64\n",
      "wood                                      1052948 non-null int64\n",
      "dtypes: int64(24), object(2)\n",
      "memory usage: 208.9+ MB\n"
     ]
    }
   ],
   "source": [
    "structure.info()"
   ]
  },
  {
   "cell_type": "code",
   "execution_count": 84,
   "metadata": {},
   "outputs": [],
   "source": [
    "structure=structure.drop('has_superstructure_mud_mortar_stone',axis=1)\n",
    "structure=structure.drop('has_superstructure_cement_mortar_stone',axis=1)\n",
    "structure=structure.drop('has_superstructure_timber',axis=1)\n",
    "structure=structure.drop('has_superstructure_bamboo',axis=1)\n",
    "structure=structure.drop('has_superstructure_mud_mortar_brick',axis=1)\n",
    "structure=structure.drop('has_superstructure_cement_mortar_brick',axis=1)"
   ]
  },
  {
   "cell_type": "raw",
   "metadata": {},
   "source": []
  },
  {
   "cell_type": "code",
   "execution_count": 85,
   "metadata": {},
   "outputs": [
    {
     "name": "stdout",
     "output_type": "stream",
     "text": [
      "<class 'pandas.core.frame.DataFrame'>\n",
      "RangeIndex: 1052948 entries, 0 to 1052947\n",
      "Data columns (total 20 columns):\n",
      "building_id                             1052948 non-null object\n",
      "age_building                            1052948 non-null int64\n",
      "plinth_area_sq_ft                       1052948 non-null int64\n",
      "land_surface_condition                  1052948 non-null int64\n",
      "foundation_type                         1052948 non-null int64\n",
      "roof_type                               1052948 non-null int64\n",
      "ground_floor_type                       1052948 non-null int64\n",
      "other_floor_type                        1052948 non-null object\n",
      "position                                1052948 non-null int64\n",
      "plan_configuration                      1052948 non-null int64\n",
      "has_superstructure_adobe_mud            1052948 non-null int64\n",
      "has_superstructure_stone_flag           1052948 non-null int64\n",
      "has_superstructure_rc_non_engineered    1052948 non-null int64\n",
      "has_superstructure_other                1052948 non-null int64\n",
      "condition_post_eq                       1052948 non-null int64\n",
      "diff_in_height                          1052948 non-null int64\n",
      "dii_in_floors                           1052948 non-null int64\n",
      "stone                                   1052948 non-null int64\n",
      "brick                                   1052948 non-null int64\n",
      "wood                                    1052948 non-null int64\n",
      "dtypes: int64(18), object(2)\n",
      "memory usage: 160.7+ MB\n"
     ]
    }
   ],
   "source": [
    "structure.info()"
   ]
  },
  {
   "cell_type": "code",
   "execution_count": 86,
   "metadata": {},
   "outputs": [],
   "source": [
    "structure=structure.drop('other_floor_type',axis=1)"
   ]
  },
  {
   "cell_type": "code",
   "execution_count": 87,
   "metadata": {},
   "outputs": [
    {
     "name": "stdout",
     "output_type": "stream",
     "text": [
      "<class 'pandas.core.frame.DataFrame'>\n",
      "RangeIndex: 1052948 entries, 0 to 1052947\n",
      "Data columns (total 19 columns):\n",
      "building_id                             1052948 non-null object\n",
      "age_building                            1052948 non-null int64\n",
      "plinth_area_sq_ft                       1052948 non-null int64\n",
      "land_surface_condition                  1052948 non-null int64\n",
      "foundation_type                         1052948 non-null int64\n",
      "roof_type                               1052948 non-null int64\n",
      "ground_floor_type                       1052948 non-null int64\n",
      "position                                1052948 non-null int64\n",
      "plan_configuration                      1052948 non-null int64\n",
      "has_superstructure_adobe_mud            1052948 non-null int64\n",
      "has_superstructure_stone_flag           1052948 non-null int64\n",
      "has_superstructure_rc_non_engineered    1052948 non-null int64\n",
      "has_superstructure_other                1052948 non-null int64\n",
      "condition_post_eq                       1052948 non-null int64\n",
      "diff_in_height                          1052948 non-null int64\n",
      "dii_in_floors                           1052948 non-null int64\n",
      "stone                                   1052948 non-null int64\n",
      "brick                                   1052948 non-null int64\n",
      "wood                                    1052948 non-null int64\n",
      "dtypes: int64(18), object(1)\n",
      "memory usage: 152.6+ MB\n"
     ]
    }
   ],
   "source": [
    "structure.info()"
   ]
  },
  {
   "cell_type": "code",
   "execution_count": 88,
   "metadata": {},
   "outputs": [
    {
     "data": {
      "text/plain": [
       "['building_id',\n",
       " 'district_id',\n",
       " 'vdcmun_id',\n",
       " 'ward_id',\n",
       " 'legal_ownership_status',\n",
       " 'count_families',\n",
       " 'has_secondary_use',\n",
       " 'has_secondary_use_agriculture',\n",
       " 'has_secondary_use_hotel',\n",
       " 'has_secondary_use_rental',\n",
       " 'has_secondary_use_institution',\n",
       " 'has_secondary_use_school',\n",
       " 'has_secondary_use_industry',\n",
       " 'has_secondary_use_health_post',\n",
       " 'has_secondary_use_gov_office',\n",
       " 'has_secondary_use_use_police',\n",
       " 'has_secondary_use_other']"
      ]
     },
     "execution_count": 88,
     "metadata": {},
     "output_type": "execute_result"
    }
   ],
   "source": [
    "buil_owner.columns.tolist()"
   ]
  },
  {
   "cell_type": "code",
   "execution_count": 89,
   "metadata": {},
   "outputs": [],
   "source": [
    "buil_owner=buil_owner.drop('has_secondary_use_institution',axis=1)\n",
    "buil_owner=buil_owner.drop('has_secondary_use_agriculture',axis=1)\n",
    "buil_owner=buil_owner.drop('has_secondary_use_hotel',axis=1)\n",
    "buil_owner=buil_owner.drop('has_secondary_use_rental',axis=1)\n",
    "buil_owner=buil_owner.drop('has_secondary_use_school',axis=1)\n",
    "buil_owner=buil_owner.drop('has_secondary_use_industry',axis=1)\n",
    "buil_owner=buil_owner.drop('has_secondary_use_health_post',axis=1)\n",
    "buil_owner=buil_owner.drop('has_secondary_use_gov_office',axis=1)\n",
    "buil_owner=buil_owner.drop('has_secondary_use_use_police',axis=1)\n",
    "buil_owner=buil_owner.drop('has_secondary_use_other',axis=1)"
   ]
  },
  {
   "cell_type": "code",
   "execution_count": 90,
   "metadata": {},
   "outputs": [],
   "source": [
    "buil_owner=buil_owner.drop(['district_id'],axis=1)\n",
    "buil_owner=buil_owner.drop(['ward_id'],axis=1)\n",
    "buil_owner=buil_owner.drop(['vdcmun_id'],axis=1)"
   ]
  },
  {
   "cell_type": "code",
   "execution_count": 91,
   "metadata": {},
   "outputs": [
    {
     "name": "stdout",
     "output_type": "stream",
     "text": [
      "<class 'pandas.core.frame.DataFrame'>\n",
      "RangeIndex: 1052948 entries, 0 to 1052947\n",
      "Data columns (total 4 columns):\n",
      "building_id               1052948 non-null object\n",
      "legal_ownership_status    1052948 non-null object\n",
      "count_families            1052946 non-null float64\n",
      "has_secondary_use         1052938 non-null float64\n",
      "dtypes: float64(2), object(2)\n",
      "memory usage: 32.1+ MB\n"
     ]
    }
   ],
   "source": [
    "buil_owner.info()"
   ]
  },
  {
   "cell_type": "code",
   "execution_count": 92,
   "metadata": {},
   "outputs": [],
   "source": [
    "buil_owner['count_families']=buil_owner['count_families'].ffill()"
   ]
  },
  {
   "cell_type": "code",
   "execution_count": 93,
   "metadata": {},
   "outputs": [],
   "source": [
    "buil_owner.loc[buil_owner.count_families >=5.0, 'count_families'] = np.nan"
   ]
  },
  {
   "cell_type": "code",
   "execution_count": 94,
   "metadata": {},
   "outputs": [],
   "source": [
    "buil_owner['count_families']=buil_owner['count_families'].ffill()"
   ]
  },
  {
   "cell_type": "code",
   "execution_count": 95,
   "metadata": {},
   "outputs": [
    {
     "data": {
      "text/plain": [
       "1.0    913451\n",
       "0.0     84363\n",
       "2.0     46364\n",
       "3.0      7127\n",
       "4.0      1643\n",
       "Name: count_families, dtype: int64"
      ]
     },
     "execution_count": 95,
     "metadata": {},
     "output_type": "execute_result"
    }
   ],
   "source": [
    "buil_owner.count_families.value_counts()"
   ]
  },
  {
   "cell_type": "code",
   "execution_count": 96,
   "metadata": {},
   "outputs": [
    {
     "data": {
      "text/plain": [
       "0.0    934839\n",
       "1.0    118099\n",
       "Name: has_secondary_use, dtype: int64"
      ]
     },
     "execution_count": 96,
     "metadata": {},
     "output_type": "execute_result"
    }
   ],
   "source": [
    "buil_owner.has_secondary_use.value_counts()"
   ]
  },
  {
   "cell_type": "code",
   "execution_count": 97,
   "metadata": {},
   "outputs": [],
   "source": [
    "buil_owner['has_secondary_use']=buil_owner['has_secondary_use'].ffill()"
   ]
  },
  {
   "cell_type": "code",
   "execution_count": 98,
   "metadata": {},
   "outputs": [
    {
     "name": "stdout",
     "output_type": "stream",
     "text": [
      "<class 'pandas.core.frame.DataFrame'>\n",
      "RangeIndex: 1052948 entries, 0 to 1052947\n",
      "Data columns (total 4 columns):\n",
      "building_id               1052948 non-null object\n",
      "legal_ownership_status    1052948 non-null object\n",
      "count_families            1052948 non-null float64\n",
      "has_secondary_use         1052948 non-null float64\n",
      "dtypes: float64(2), object(2)\n",
      "memory usage: 32.1+ MB\n"
     ]
    }
   ],
   "source": [
    "buil_owner.info()"
   ]
  },
  {
   "cell_type": "code",
   "execution_count": 99,
   "metadata": {},
   "outputs": [
    {
     "data": {
      "text/plain": [
       "<matplotlib.axes._subplots.AxesSubplot at 0x7f969c1ad828>"
      ]
     },
     "execution_count": 99,
     "metadata": {},
     "output_type": "execute_result"
    },
    {
     "data": {
      "image/png": "[encoded data removed]",
      "text/plain": [
       "<matplotlib.figure.Figure at 0x7f969c17fcf8>"
      ]
     },
     "metadata": {},
     "output_type": "display_data"
    }
   ],
   "source": [
    "sns.countplot(x=buil_owner.legal_ownership_status)"
   ]
  },
  {
   "cell_type": "code",
   "execution_count": 100,
   "metadata": {},
   "outputs": [
    {
     "data": {
      "text/plain": [
       "Private          1014042\n",
       "Public             22326\n",
       "Institutional      10502\n",
       "Other               6078\n",
       "Name: legal_ownership_status, dtype: int64"
      ]
     },
     "execution_count": 100,
     "metadata": {},
     "output_type": "execute_result"
    }
   ],
   "source": [
    "buil_owner.legal_ownership_status.value_counts()"
   ]
  },
  {
   "cell_type": "code",
   "execution_count": 101,
   "metadata": {},
   "outputs": [],
   "source": [
    "buil_owner['legal_ownership_status']=LabelEncoder().fit_transform(buil_owner['legal_ownership_status'])"
   ]
  },
  {
   "cell_type": "code",
   "execution_count": 102,
   "metadata": {},
   "outputs": [
    {
     "name": "stdout",
     "output_type": "stream",
     "text": [
      "<class 'pandas.core.frame.DataFrame'>\n",
      "RangeIndex: 1052948 entries, 0 to 1052947\n",
      "Data columns (total 4 columns):\n",
      "building_id               1052948 non-null object\n",
      "legal_ownership_status    1052948 non-null int64\n",
      "count_families            1052948 non-null float64\n",
      "has_secondary_use         1052948 non-null float64\n",
      "dtypes: float64(2), int64(1), object(1)\n",
      "memory usage: 32.1+ MB\n"
     ]
    }
   ],
   "source": [
    "buil_owner.info()"
   ]
  },
  {
   "cell_type": "code",
   "execution_count": 103,
   "metadata": {},
   "outputs": [],
   "source": [
    "buil_owner['count_families']=buil_owner['count_families'].astype(int)\n",
    "buil_owner['has_secondary_use']=buil_owner['has_secondary_use'].astype(int)\n"
   ]
  },
  {
   "cell_type": "code",
   "execution_count": 104,
   "metadata": {},
   "outputs": [
    {
     "name": "stdout",
     "output_type": "stream",
     "text": [
      "<class 'pandas.core.frame.DataFrame'>\n",
      "RangeIndex: 1052948 entries, 0 to 1052947\n",
      "Data columns (total 4 columns):\n",
      "building_id               1052948 non-null object\n",
      "legal_ownership_status    1052948 non-null int64\n",
      "count_families            1052948 non-null int64\n",
      "has_secondary_use         1052948 non-null int64\n",
      "dtypes: int64(3), object(1)\n",
      "memory usage: 32.1+ MB\n"
     ]
    }
   ],
   "source": [
    "buil_owner.info()"
   ]
  },
  {
   "cell_type": "code",
   "execution_count": 105,
   "metadata": {},
   "outputs": [],
   "source": [
    "zzzz=pd.merge(structure,buil_owner,on='building_id')"
   ]
  },
  {
   "cell_type": "code",
   "execution_count": 106,
   "metadata": {},
   "outputs": [
    {
     "name": "stdout",
     "output_type": "stream",
     "text": [
      "<class 'pandas.core.frame.DataFrame'>\n",
      "Int64Index: 1052948 entries, 0 to 1052947\n",
      "Data columns (total 22 columns):\n",
      "building_id                             1052948 non-null object\n",
      "age_building                            1052948 non-null int64\n",
      "plinth_area_sq_ft                       1052948 non-null int64\n",
      "land_surface_condition                  1052948 non-null int64\n",
      "foundation_type                         1052948 non-null int64\n",
      "roof_type                               1052948 non-null int64\n",
      "ground_floor_type                       1052948 non-null int64\n",
      "position                                1052948 non-null int64\n",
      "plan_configuration                      1052948 non-null int64\n",
      "has_superstructure_adobe_mud            1052948 non-null int64\n",
      "has_superstructure_stone_flag           1052948 non-null int64\n",
      "has_superstructure_rc_non_engineered    1052948 non-null int64\n",
      "has_superstructure_other                1052948 non-null int64\n",
      "condition_post_eq                       1052948 non-null int64\n",
      "diff_in_height                          1052948 non-null int64\n",
      "dii_in_floors                           1052948 non-null int64\n",
      "stone                                   1052948 non-null int64\n",
      "brick                                   1052948 non-null int64\n",
      "wood                                    1052948 non-null int64\n",
      "legal_ownership_status                  1052948 non-null int64\n",
      "count_families                          1052948 non-null int64\n",
      "has_secondary_use                       1052948 non-null int64\n",
      "dtypes: int64(21), object(1)\n",
      "memory usage: 184.8+ MB\n"
     ]
    }
   ],
   "source": [
    "zzzz.info()"
   ]
  },
  {
   "cell_type": "code",
   "execution_count": 107,
   "metadata": {},
   "outputs": [
    {
     "name": "stdout",
     "output_type": "stream",
     "text": [
      "<class 'pandas.core.frame.DataFrame'>\n",
      "RangeIndex: 631761 entries, 0 to 631760\n",
      "Data columns (total 14 columns):\n",
      "area_assesed                             631761 non-null object\n",
      "building_id                              631761 non-null object\n",
      "damage_grade                             631761 non-null object\n",
      "district_id                              631761 non-null int64\n",
      "has_geotechnical_risk                    631761 non-null float64\n",
      "has_geotechnical_risk_fault_crack        631761 non-null int64\n",
      "has_geotechnical_risk_flood              631761 non-null int64\n",
      "has_geotechnical_risk_land_settlement    631761 non-null int64\n",
      "has_geotechnical_risk_landslide          631761 non-null int64\n",
      "has_geotechnical_risk_liquefaction       631761 non-null int64\n",
      "has_geotechnical_risk_other              631761 non-null int64\n",
      "has_geotechnical_risk_rock_fall          631761 non-null int64\n",
      "has_repair_started                       598344 non-null float64\n",
      "vdcmun_id                                631761 non-null int64\n",
      "dtypes: float64(2), int64(9), object(3)\n",
      "memory usage: 67.5+ MB\n"
     ]
    }
   ],
   "source": [
    "train.info()"
   ]
  },
  {
   "cell_type": "code",
   "execution_count": 108,
   "metadata": {},
   "outputs": [],
   "source": [
    "train['area_assesed']=LabelEncoder().fit_transform(train.area_assesed)"
   ]
  },
  {
   "cell_type": "code",
   "execution_count": 109,
   "metadata": {},
   "outputs": [],
   "source": [
    "train.has_geotechnical_risk=train.has_geotechnical_risk.astype(int)\n"
   ]
  },
  {
   "cell_type": "code",
   "execution_count": 110,
   "metadata": {},
   "outputs": [
    {
     "data": {
      "text/plain": [
       "0    553473\n",
       "1     78288\n",
       "Name: has_geotechnical_risk, dtype: int64"
      ]
     },
     "execution_count": 110,
     "metadata": {},
     "output_type": "execute_result"
    }
   ],
   "source": [
    "train.has_geotechnical_risk.value_counts()"
   ]
  },
  {
   "cell_type": "code",
   "execution_count": 111,
   "metadata": {},
   "outputs": [],
   "source": [
    "train=train.drop('has_geotechnical_risk_other',axis=1)"
   ]
  },
  {
   "cell_type": "code",
   "execution_count": 112,
   "metadata": {},
   "outputs": [],
   "source": [
    "train=train.drop('has_geotechnical_risk_liquefaction',axis=1)"
   ]
  },
  {
   "cell_type": "code",
   "execution_count": 113,
   "metadata": {},
   "outputs": [],
   "source": [
    "train['has_repair_started']=train.has_repair_started.ffill()"
   ]
  },
  {
   "cell_type": "code",
   "execution_count": 114,
   "metadata": {},
   "outputs": [
    {
     "name": "stdout",
     "output_type": "stream",
     "text": [
      "<class 'pandas.core.frame.DataFrame'>\n",
      "RangeIndex: 631761 entries, 0 to 631760\n",
      "Data columns (total 12 columns):\n",
      "area_assesed                             631761 non-null int64\n",
      "building_id                              631761 non-null object\n",
      "damage_grade                             631761 non-null object\n",
      "district_id                              631761 non-null int64\n",
      "has_geotechnical_risk                    631761 non-null int64\n",
      "has_geotechnical_risk_fault_crack        631761 non-null int64\n",
      "has_geotechnical_risk_flood              631761 non-null int64\n",
      "has_geotechnical_risk_land_settlement    631761 non-null int64\n",
      "has_geotechnical_risk_landslide          631761 non-null int64\n",
      "has_geotechnical_risk_rock_fall          631761 non-null int64\n",
      "has_repair_started                       631761 non-null float64\n",
      "vdcmun_id                                631761 non-null int64\n",
      "dtypes: float64(1), int64(9), object(2)\n",
      "memory usage: 57.8+ MB\n"
     ]
    }
   ],
   "source": [
    "train.info()"
   ]
  },
  {
   "cell_type": "code",
   "execution_count": 115,
   "metadata": {},
   "outputs": [
    {
     "data": {
      "text/plain": [
       "0    609742\n",
       "1     22019\n",
       "Name: has_geotechnical_risk_rock_fall, dtype: int64"
      ]
     },
     "execution_count": 115,
     "metadata": {},
     "output_type": "execute_result"
    }
   ],
   "source": [
    "train.has_geotechnical_risk_rock_fall.value_counts()"
   ]
  },
  {
   "cell_type": "code",
   "execution_count": 116,
   "metadata": {},
   "outputs": [
    {
     "name": "stdout",
     "output_type": "stream",
     "text": [
      "<class 'pandas.core.frame.DataFrame'>\n",
      "RangeIndex: 631761 entries, 0 to 631760\n",
      "Data columns (total 12 columns):\n",
      "area_assesed                             631761 non-null int64\n",
      "building_id                              631761 non-null object\n",
      "damage_grade                             631761 non-null object\n",
      "district_id                              631761 non-null int64\n",
      "has_geotechnical_risk                    631761 non-null int64\n",
      "has_geotechnical_risk_fault_crack        631761 non-null int64\n",
      "has_geotechnical_risk_flood              631761 non-null int64\n",
      "has_geotechnical_risk_land_settlement    631761 non-null int64\n",
      "has_geotechnical_risk_landslide          631761 non-null int64\n",
      "has_geotechnical_risk_rock_fall          631761 non-null int64\n",
      "has_repair_started                       631761 non-null float64\n",
      "vdcmun_id                                631761 non-null int64\n",
      "dtypes: float64(1), int64(9), object(2)\n",
      "memory usage: 57.8+ MB\n"
     ]
    }
   ],
   "source": [
    "train.info()"
   ]
  },
  {
   "cell_type": "code",
   "execution_count": 117,
   "metadata": {},
   "outputs": [],
   "source": [
    "train['has_repair_started']=train['has_repair_started'].astype(int)"
   ]
  },
  {
   "cell_type": "code",
   "execution_count": 118,
   "metadata": {},
   "outputs": [
    {
     "name": "stdout",
     "output_type": "stream",
     "text": [
      "<class 'pandas.core.frame.DataFrame'>\n",
      "RangeIndex: 631761 entries, 0 to 631760\n",
      "Data columns (total 12 columns):\n",
      "area_assesed                             631761 non-null int64\n",
      "building_id                              631761 non-null object\n",
      "damage_grade                             631761 non-null object\n",
      "district_id                              631761 non-null int64\n",
      "has_geotechnical_risk                    631761 non-null int64\n",
      "has_geotechnical_risk_fault_crack        631761 non-null int64\n",
      "has_geotechnical_risk_flood              631761 non-null int64\n",
      "has_geotechnical_risk_land_settlement    631761 non-null int64\n",
      "has_geotechnical_risk_landslide          631761 non-null int64\n",
      "has_geotechnical_risk_rock_fall          631761 non-null int64\n",
      "has_repair_started                       631761 non-null int64\n",
      "vdcmun_id                                631761 non-null int64\n",
      "dtypes: int64(10), object(2)\n",
      "memory usage: 57.8+ MB\n"
     ]
    }
   ],
   "source": [
    "train.info()"
   ]
  },
  {
   "cell_type": "code",
   "execution_count": 119,
   "metadata": {},
   "outputs": [],
   "source": [
    "final=pd.merge(train,zzzz,on='building_id')"
   ]
  },
  {
   "cell_type": "code",
   "execution_count": 120,
   "metadata": {},
   "outputs": [
    {
     "name": "stdout",
     "output_type": "stream",
     "text": [
      "<class 'pandas.core.frame.DataFrame'>\n",
      "RangeIndex: 421175 entries, 0 to 421174\n",
      "Data columns (total 13 columns):\n",
      "area_assesed                             421175 non-null object\n",
      "building_id                              421175 non-null object\n",
      "district_id                              421175 non-null int64\n",
      "has_geotechnical_risk                    421175 non-null float64\n",
      "has_geotechnical_risk_fault_crack        421175 non-null int64\n",
      "has_geotechnical_risk_flood              421175 non-null int64\n",
      "has_geotechnical_risk_land_settlement    421175 non-null int64\n",
      "has_geotechnical_risk_landslide          421175 non-null int64\n",
      "has_geotechnical_risk_liquefaction       421175 non-null int64\n",
      "has_geotechnical_risk_other              421175 non-null int64\n",
      "has_geotechnical_risk_rock_fall          421175 non-null int64\n",
      "has_repair_started                       399253 non-null float64\n",
      "vdcmun_id                                421175 non-null int64\n",
      "dtypes: float64(2), int64(9), object(2)\n",
      "memory usage: 41.8+ MB\n"
     ]
    }
   ],
   "source": [
    "test.info()"
   ]
  },
  {
   "cell_type": "code",
   "execution_count": 121,
   "metadata": {},
   "outputs": [],
   "source": [
    "test.area_assesed=LabelEncoder().fit_transform(test['area_assesed'])"
   ]
  },
  {
   "cell_type": "code",
   "execution_count": 122,
   "metadata": {},
   "outputs": [],
   "source": [
    "test['has_geotechnical_risk']=test['has_geotechnical_risk'].astype(int)"
   ]
  },
  {
   "cell_type": "code",
   "execution_count": 123,
   "metadata": {},
   "outputs": [],
   "source": [
    "test['has_repair_started']=test['has_repair_started'].ffill()"
   ]
  },
  {
   "cell_type": "code",
   "execution_count": 124,
   "metadata": {},
   "outputs": [],
   "source": [
    "\n",
    "test=test.drop('has_geotechnical_risk_other',axis=1)\n",
    "test=test.drop('has_geotechnical_risk_liquefaction',axis=1)"
   ]
  },
  {
   "cell_type": "code",
   "execution_count": 125,
   "metadata": {},
   "outputs": [],
   "source": [
    "test.has_repair_started=test.has_repair_started.astype(int)"
   ]
  },
  {
   "cell_type": "code",
   "execution_count": 126,
   "metadata": {},
   "outputs": [
    {
     "name": "stdout",
     "output_type": "stream",
     "text": [
      "<class 'pandas.core.frame.DataFrame'>\n",
      "RangeIndex: 421175 entries, 0 to 421174\n",
      "Data columns (total 11 columns):\n",
      "area_assesed                             421175 non-null int64\n",
      "building_id                              421175 non-null object\n",
      "district_id                              421175 non-null int64\n",
      "has_geotechnical_risk                    421175 non-null int64\n",
      "has_geotechnical_risk_fault_crack        421175 non-null int64\n",
      "has_geotechnical_risk_flood              421175 non-null int64\n",
      "has_geotechnical_risk_land_settlement    421175 non-null int64\n",
      "has_geotechnical_risk_landslide          421175 non-null int64\n",
      "has_geotechnical_risk_rock_fall          421175 non-null int64\n",
      "has_repair_started                       421175 non-null int64\n",
      "vdcmun_id                                421175 non-null int64\n",
      "dtypes: int64(10), object(1)\n",
      "memory usage: 35.3+ MB\n"
     ]
    }
   ],
   "source": [
    "test.info()"
   ]
  },
  {
   "cell_type": "code",
   "execution_count": 127,
   "metadata": {},
   "outputs": [],
   "source": [
    "fest=final['damage_grade']"
   ]
  },
  {
   "cell_type": "code",
   "execution_count": 128,
   "metadata": {},
   "outputs": [],
   "source": [
    "testo=pd.merge(test,zzzz,on='building_id')"
   ]
  },
  {
   "cell_type": "code",
   "execution_count": 129,
   "metadata": {},
   "outputs": [],
   "source": [
    "final['damage_grade']=LabelEncoder().fit_transform(final['damage_grade'])"
   ]
  },
  {
   "cell_type": "code",
   "execution_count": 130,
   "metadata": {},
   "outputs": [],
   "source": [
    "train_Y=final['damage_grade']"
   ]
  },
  {
   "cell_type": "code",
   "execution_count": 131,
   "metadata": {},
   "outputs": [],
   "source": [
    "final =final.drop(['damage_grade'],axis=1)"
   ]
  },
  {
   "cell_type": "code",
   "execution_count": 132,
   "metadata": {},
   "outputs": [],
   "source": [
    "final=final.drop(['building_id'],axis=1)"
   ]
  },
  {
   "cell_type": "code",
   "execution_count": 133,
   "metadata": {},
   "outputs": [
    {
     "name": "stdout",
     "output_type": "stream",
     "text": [
      "<class 'pandas.core.frame.DataFrame'>\n",
      "Int64Index: 631761 entries, 0 to 631760\n",
      "Data columns (total 31 columns):\n",
      "area_assesed                             631761 non-null int64\n",
      "district_id                              631761 non-null int64\n",
      "has_geotechnical_risk                    631761 non-null int64\n",
      "has_geotechnical_risk_fault_crack        631761 non-null int64\n",
      "has_geotechnical_risk_flood              631761 non-null int64\n",
      "has_geotechnical_risk_land_settlement    631761 non-null int64\n",
      "has_geotechnical_risk_landslide          631761 non-null int64\n",
      "has_geotechnical_risk_rock_fall          631761 non-null int64\n",
      "has_repair_started                       631761 non-null int64\n",
      "vdcmun_id                                631761 non-null int64\n",
      "age_building                             631761 non-null int64\n",
      "plinth_area_sq_ft                        631761 non-null int64\n",
      "land_surface_condition                   631761 non-null int64\n",
      "foundation_type                          631761 non-null int64\n",
      "roof_type                                631761 non-null int64\n",
      "ground_floor_type                        631761 non-null int64\n",
      "position                                 631761 non-null int64\n",
      "plan_configuration                       631761 non-null int64\n",
      "has_superstructure_adobe_mud             631761 non-null int64\n",
      "has_superstructure_stone_flag            631761 non-null int64\n",
      "has_superstructure_rc_non_engineered     631761 non-null int64\n",
      "has_superstructure_other                 631761 non-null int64\n",
      "condition_post_eq                        631761 non-null int64\n",
      "diff_in_height                           631761 non-null int64\n",
      "dii_in_floors                            631761 non-null int64\n",
      "stone                                    631761 non-null int64\n",
      "brick                                    631761 non-null int64\n",
      "wood                                     631761 non-null int64\n",
      "legal_ownership_status                   631761 non-null int64\n",
      "count_families                           631761 non-null int64\n",
      "has_secondary_use                        631761 non-null int64\n",
      "dtypes: int64(31)\n",
      "memory usage: 154.2 MB\n"
     ]
    }
   ],
   "source": [
    "final.info()"
   ]
  },
  {
   "cell_type": "code",
   "execution_count": 134,
   "metadata": {},
   "outputs": [],
   "source": [
    "train_X=final"
   ]
  },
  {
   "cell_type": "code",
   "execution_count": 135,
   "metadata": {},
   "outputs": [],
   "source": [
    "test_id=testo.building_id"
   ]
  },
  {
   "cell_type": "code",
   "execution_count": 136,
   "metadata": {},
   "outputs": [],
   "source": [
    "testo=testo.drop('building_id',axis=1)"
   ]
  },
  {
   "cell_type": "code",
   "execution_count": 137,
   "metadata": {},
   "outputs": [],
   "source": [
    "test_X=testo"
   ]
  },
  {
   "cell_type": "code",
   "execution_count": 138,
   "metadata": {},
   "outputs": [],
   "source": [
    "X_train,X_test,y_train,y_test=train_test_split(train_X,train_Y,test_size=0.2,random_state=42)"
   ]
  },
  {
   "cell_type": "code",
   "execution_count": 139,
   "metadata": {},
   "outputs": [],
   "source": [
    "from xgboost import XGBRegressor"
   ]
  },
  {
   "cell_type": "code",
   "execution_count": null,
   "metadata": {},
   "outputs": [],
   "source": []
  },
  {
   "cell_type": "raw",
   "metadata": {},
   "source": []
  },
  {
   "cell_type": "code",
   "execution_count": null,
   "metadata": {},
   "outputs": [],
   "source": []
  },
  {
   "cell_type": "code",
   "execution_count": 140,
   "metadata": {},
   "outputs": [
    {
     "name": "stderr",
     "output_type": "stream",
     "text": [
      "/home/piyush/anaconda3/lib/python3.6/site-packages/sklearn/preprocessing/label.py:151: DeprecationWarning: The truth value of an empty array is ambiguous. Returning False, but in future this will result in an error. Use `array.size > 0` to check that an array is not empty.\n",
      "  if diff:\n",
      "/home/piyush/anaconda3/lib/python3.6/site-packages/ipykernel_launcher.py:23: SettingWithCopyWarning: \n",
      "A value is trying to be set on a copy of a slice from a DataFrame\n",
      "\n",
      "See the caveats in the documentation: http://pandas.pydata.org/pandas-docs/stable/indexing.html#indexing-view-versus-copy\n",
      "/home/piyush/anaconda3/lib/python3.6/site-packages/pandas/core/indexing.py:194: SettingWithCopyWarning: \n",
      "A value is trying to be set on a copy of a slice from a DataFrame\n",
      "\n",
      "See the caveats in the documentation: http://pandas.pydata.org/pandas-docs/stable/indexing.html#indexing-view-versus-copy\n",
      "  self._setitem_with_indexer(indexer, value)\n"
     ]
    }
   ],
   "source": [
    "model=XGBClassifier(max_depth=20,learning_rate=0.2,subsample=0.8,early_stopping_rounds=45,verbose_eval=.1,gamma=5)\n",
    "model.fit(train_X, train_Y)\n",
    "y_pred1 = model.predict(test_X)\n",
    "predictions = [round(value) for value in y_pred1]\n",
    "\n",
    "\n",
    "sub2 = pd.DataFrame({\n",
    "    \"building_id\":test_id,\n",
    "    \"damage_grade\":predictions\n",
    "})\n",
    "sub2['damage_grade']=sub2['damage_grade'].astype(int)\n",
    "\n",
    "dam2=sub2['damage_grade']\n",
    "\n",
    "\n",
    "\n",
    "for n,i in enumerate(dam2):\n",
    "    if i==0:\n",
    "        dam2[n]='Grade 1'\n",
    "    elif i==1:\n",
    "        dam2[n]='Grade 2'\n",
    "    elif i==2:\n",
    "        dam2[n]='Grade 3'\n",
    "    elif i==3:\n",
    "        dam2[n]='Grade 4'\n",
    "    elif i==4:\n",
    "        dam2[n]='Grade 5'\n",
    "        \n",
    "        \n",
    "sub2.to_csv('submission6.csv',index=False)"
   ]
  },
  {
   "cell_type": "code",
   "execution_count": null,
   "metadata": {},
   "outputs": [],
   "source": []
  }
 ],
 "metadata": {
  "kernelspec": {
   "display_name": "Python 3",
   "language": "python",
   "name": "python3"
  },
  "language_info": {
   "codemirror_mode": {
    "name": "ipython",
    "version": 3
   },
   "file_extension": ".py",
   "mimetype": "text/x-python",
   "name": "python",
   "nbconvert_exporter": "python",
   "pygments_lexer": "ipython3",
   "version": "3.6.4"
  }
 },
 "nbformat": 4,
 "nbformat_minor": 2
}
